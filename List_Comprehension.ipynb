{
  "nbformat": 4,
  "nbformat_minor": 0,
  "metadata": {
    "colab": {
      "provenance": [],
      "authorship_tag": "ABX9TyOQE0Xv33KjBzHa7SAvK3mP",
      "include_colab_link": true
    },
    "kernelspec": {
      "name": "python3",
      "display_name": "Python 3"
    },
    "language_info": {
      "name": "python"
    }
  },
  "cells": [
    {
      "cell_type": "markdown",
      "metadata": {
        "id": "view-in-github",
        "colab_type": "text"
      },
      "source": [
        "<a href=\"https://colab.research.google.com/github/jsom15/Machine_Learning/blob/main/List_Comprehension.ipynb\" target=\"_parent\"><img src=\"https://colab.research.google.com/assets/colab-badge.svg\" alt=\"Open In Colab\"/></a>"
      ]
    },
    {
      "cell_type": "markdown",
      "source": [
        "This code creates a new list called newlist containing elements from the original list fruits where the letter \"a\" is present in each element. Finally, it prints the newlist.\n",
        "\n"
      ],
      "metadata": {
        "id": "Q7kr08U_klOT"
      }
    },
    {
      "cell_type": "code",
      "source": [
        "fruits = [\"apple\", \"banana\", \"cherry\", \"kiwi\", \"mango\"]\n",
        "\n",
        "newlist = [x for x in fruits if \"a\" in x]\n",
        "\n",
        "print(newlist)"
      ],
      "metadata": {
        "colab": {
          "base_uri": "https://localhost:8080/"
        },
        "id": "XbUdZ_nGkndB",
        "outputId": "4def756e-1017-44ef-901d-e710c291850f"
      },
      "execution_count": 1,
      "outputs": [
        {
          "output_type": "stream",
          "name": "stdout",
          "text": [
            "['apple', 'banana', 'mango']\n"
          ]
        }
      ]
    },
    {
      "cell_type": "markdown",
      "source": [
        "This code creates a new list called newlist containing all elements from the original list fruits except for the element \"apple\". Finally, it prints the newlist."
      ],
      "metadata": {
        "id": "zJOIMAh7kstL"
      }
    },
    {
      "cell_type": "code",
      "source": [
        "fruits = [\"apple\", \"banana\", \"cherry\", \"kiwi\", \"mango\"]\n",
        "\n",
        "newlist = [x for x in fruits if x != \"apple\"]\n",
        "\n",
        "print(newlist)\n",
        ""
      ],
      "metadata": {
        "colab": {
          "base_uri": "https://localhost:8080/"
        },
        "id": "h_G1vrJSktYq",
        "outputId": "0e763bda-6ea8-4d3a-b750-b64d800add6f"
      },
      "execution_count": 2,
      "outputs": [
        {
          "output_type": "stream",
          "name": "stdout",
          "text": [
            "['banana', 'cherry', 'kiwi', 'mango']\n"
          ]
        }
      ]
    },
    {
      "cell_type": "markdown",
      "source": [
        "This code generates a new list called square_number, where each element is the square of the corresponding element in the numbers list. Finally, it prints the square_number list."
      ],
      "metadata": {
        "id": "xwgI2Uauk1IA"
      }
    },
    {
      "cell_type": "code",
      "source": [
        "numbers = [1,2,3,4,5]\n",
        "square_number = [num*num for num in numbers]\n",
        "print(square_number)\n",
        ""
      ],
      "metadata": {
        "colab": {
          "base_uri": "https://localhost:8080/"
        },
        "id": "CP6kadUnk13d",
        "outputId": "def6236d-18bc-4198-e43e-1483cbb4ee43"
      },
      "execution_count": 3,
      "outputs": [
        {
          "output_type": "stream",
          "name": "stdout",
          "text": [
            "[1, 4, 9, 16, 25]\n"
          ]
        }
      ]
    },
    {
      "cell_type": "markdown",
      "source": [
        "This code creates a new list called result, which contains the vowels present in the word \"Hello\". It iterates through each character in the word and checks if it's a vowel, then adds it to the result list. Finally, it prints the result list."
      ],
      "metadata": {
        "id": "7aVjJxzFk8QH"
      }
    },
    {
      "cell_type": "code",
      "source": [
        "word = \"Hello\"\n",
        "vowels = \"aeiou\"\n",
        "result = [char for char in word if char in vowels]\n",
        "print(result)\n",
        ""
      ],
      "metadata": {
        "colab": {
          "base_uri": "https://localhost:8080/"
        },
        "id": "rJoulM7ok9Cq",
        "outputId": "8a7677a4-cab3-4218-ba27-c632638b861c"
      },
      "execution_count": 4,
      "outputs": [
        {
          "output_type": "stream",
          "name": "stdout",
          "text": [
            "['e', 'o']\n"
          ]
        }
      ]
    }
  ]
}